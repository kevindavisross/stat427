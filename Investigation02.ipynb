{
  "nbformat": 4,
  "nbformat_minor": 0,
  "metadata": {
    "colab": {
      "name": "Investigation02.ipynb",
      "provenance": []
    },
    "kernelspec": {
      "name": "python3",
      "display_name": "Python 3"
    },
    "language_info": {
      "name": "python"
    }
  },
  "cells": [
    {
      "cell_type": "code",
      "metadata": {
        "colab": {
          "base_uri": "https://localhost:8080/"
        },
        "id": "vQrXn2K6kXp1",
        "outputId": "1a879cb8-4f3f-448c-ab41-e88a578ae1d9"
      },
      "source": [
        "!pip install symbulate\n",
        "\n",
        "from symbulate import *\n",
        "%matplotlib inline"
      ],
      "execution_count": 1,
      "outputs": [
        {
          "output_type": "stream",
          "text": [
            "Collecting symbulate\n",
            "\u001b[?25l  Downloading https://files.pythonhosted.org/packages/a0/3f/aa7ee2dc3b5853b149581f3add74e935195c821d7f701fb648f953582a88/symbulate-0.5.7-py3-none-any.whl (44kB)\n",
            "\r\u001b[K     |███████▎                        | 10kB 8.6MB/s eta 0:00:01\r\u001b[K     |██████████████▋                 | 20kB 7.0MB/s eta 0:00:01\r\u001b[K     |██████████████████████          | 30kB 5.5MB/s eta 0:00:01\r\u001b[K     |█████████████████████████████▏  | 40kB 3.0MB/s eta 0:00:01\r\u001b[K     |████████████████████████████████| 51kB 2.0MB/s \n",
            "\u001b[?25hRequirement already satisfied: numpy in /usr/local/lib/python3.7/dist-packages (from symbulate) (1.19.5)\n",
            "Requirement already satisfied: scipy in /usr/local/lib/python3.7/dist-packages (from symbulate) (1.4.1)\n",
            "Requirement already satisfied: matplotlib in /usr/local/lib/python3.7/dist-packages (from symbulate) (3.2.2)\n",
            "Requirement already satisfied: cycler>=0.10 in /usr/local/lib/python3.7/dist-packages (from matplotlib->symbulate) (0.10.0)\n",
            "Requirement already satisfied: pyparsing!=2.0.4,!=2.1.2,!=2.1.6,>=2.0.1 in /usr/local/lib/python3.7/dist-packages (from matplotlib->symbulate) (2.4.7)\n",
            "Requirement already satisfied: kiwisolver>=1.0.1 in /usr/local/lib/python3.7/dist-packages (from matplotlib->symbulate) (1.3.1)\n",
            "Requirement already satisfied: python-dateutil>=2.1 in /usr/local/lib/python3.7/dist-packages (from matplotlib->symbulate) (2.8.1)\n",
            "Requirement already satisfied: six in /usr/local/lib/python3.7/dist-packages (from cycler>=0.10->matplotlib->symbulate) (1.15.0)\n",
            "Installing collected packages: symbulate\n",
            "Successfully installed symbulate-0.5.7\n"
          ],
          "name": "stdout"
        }
      ]
    },
    {
      "cell_type": "markdown",
      "metadata": {
        "id": "cxGuBoszZfnW"
      },
      "source": [
        "# Assuming H0 true"
      ]
    },
    {
      "cell_type": "code",
      "metadata": {
        "colab": {
          "base_uri": "https://localhost:8080/",
          "height": 273
        },
        "id": "J_40WH_CkdS0",
        "outputId": "70420889-3a8f-405b-8c23-9b5ae2910dc1"
      },
      "source": [
        "n = 10\n",
        "m = 10\n",
        "\n",
        "mu_x = 1\n",
        "mu_y = 1 # typo in the assignment\n",
        "\n",
        "alpha = 0.01\n",
        "\n",
        "Xsum, Ysum = RV(Poisson(n * mu_x) * Poisson(m * mu_y))\n",
        "\n",
        "Xbar = Xsum / n\n",
        "Ybar = Ysum / m\n",
        "\n",
        "Lambda_den = (exp(-n * Xbar) * Xbar ** Xsum) * (exp(-m * Ybar) * Ybar ** Ysum)\n",
        "\n",
        "Muhat = (Xsum + Ysum) / (n + m)\n",
        "\n",
        "Lambda_num = (exp(-n * Muhat) * Muhat ** Xsum) * (exp(-m * Muhat) * Muhat ** Ysum)\n",
        "\n",
        "Lambda = Lambda_num / Lambda_den\n",
        "\n",
        "lambdas = (-2 * log(Lambda)).sim(10000)\n",
        "\n",
        "lambdas.plot('hist')\n",
        "ChiSquare(1).plot()\n",
        "\n",
        "c = ChiSquare(1).quantile(1 - alpha)\n",
        "\n",
        "lambdas.quantile(1 - alpha), c "
      ],
      "execution_count": 4,
      "outputs": [
        {
          "output_type": "execute_result",
          "data": {
            "text/plain": [
              "(6.859428124362558, 6.6348966010212145)"
            ]
          },
          "metadata": {
            "tags": []
          },
          "execution_count": 4
        },
        {
          "output_type": "display_data",
          "data": {
            "image/png": "[encoded data removed]",
            "text/plain": [
              "<Figure size 432x288 with 1 Axes>"
            ]
          },
          "metadata": {
            "tags": [],
            "needs_background": "light"
          }
        }
      ]
    },
    {
      "cell_type": "markdown",
      "metadata": {
        "id": "3qEyRYaeZuyu"
      },
      "source": [
        "# Assuming H1 is true"
      ]
    },
    {
      "cell_type": "code",
      "metadata": {
        "colab": {
          "base_uri": "https://localhost:8080/",
          "height": 283
        },
        "id": "_TEWOFEfZuQh",
        "outputId": "a6d9cbfd-7f6b-442b-8989-eb1abce5a291"
      },
      "source": [
        "n = 10\n",
        "m = 10\n",
        "\n",
        "mu_x = 1\n",
        "mu_y = 2 # H1 is true\n",
        "\n",
        "alpha = 0.01\n",
        "\n",
        "Xsum, Ysum = RV(Poisson(n * mu_x) * Poisson(m * mu_y))\n",
        "\n",
        "Xbar = Xsum / n\n",
        "Ybar = Ysum / m\n",
        "\n",
        "Lambda_den = (exp(-n * Xbar) * Xbar ** Xsum) * (exp(-m * Ybar) * Ybar ** Ysum)\n",
        "\n",
        "Muhat = (Xsum + Ysum) / (n + m)\n",
        "\n",
        "Lambda_num = (exp(-n * Muhat) * Muhat ** Xsum) * (exp(-m * Muhat) * Muhat ** Ysum)\n",
        "\n",
        "Lambda = Lambda_num / Lambda_den\n",
        "\n",
        "lambdas = (-2 * log(Lambda)).sim(10000)\n",
        "\n",
        "lambdas.plot('hist')\n",
        "\n",
        "lambdas.count_gt(c) / 10000"
      ],
      "execution_count": 5,
      "outputs": [
        {
          "output_type": "execute_result",
          "data": {
            "text/plain": [
              "0.2387"
            ]
          },
          "metadata": {
            "tags": []
          },
          "execution_count": 5
        },
        {
          "output_type": "display_data",
          "data": {
            "image/png": "[encoded data removed]",
            "text/plain": [
              "<Figure size 432x288 with 1 Axes>"
            ]
          },
          "metadata": {
            "tags": [],
            "needs_background": "light"
          }
        }
      ]
    },
    {
      "cell_type": "code",
      "metadata": {
        "id": "XH2e7369aEIG"
      },
      "source": [
        ""
      ],
      "execution_count": null,
      "outputs": []
    }
  ]
}